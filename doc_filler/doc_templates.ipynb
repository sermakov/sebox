{
 "cells": [
  {
   "cell_type": "markdown",
   "metadata": {},
   "source": [
    "# Заполнятор досрочки"
   ]
  },
  {
   "cell_type": "markdown",
   "metadata": {},
   "source": [
    "## Импорты"
   ]
  },
  {
   "cell_type": "code",
   "execution_count": null,
   "metadata": {},
   "outputs": [],
   "source": [
    "import time, os\n",
    "start = time.time()\n",
    "\n",
    "import pandas as pd\n",
    "import docxtpl\n",
    "import pymorphy2\n",
    "\n",
    "from pytrovich.enums import NamePart, Gender, Case\n",
    "from pytrovich.maker import PetrovichDeclinationMaker\n",
    "from pytrovich.detector import PetrovichGenderDetector\n",
    "\n",
    "morph = pymorphy2.MorphAnalyzer()\n",
    "maker = PetrovichDeclinationMaker()\n",
    "detector = PetrovichGenderDetector()"
   ]
  },
  {
   "cell_type": "markdown",
   "metadata": {},
   "source": [
    "## Google-таблица"
   ]
  },
  {
   "cell_type": "code",
   "execution_count": null,
   "metadata": {},
   "outputs": [],
   "source": [
    "data = pd.read_csv('<place for table>')"
   ]
  },
  {
   "cell_type": "code",
   "execution_count": null,
   "metadata": {},
   "outputs": [],
   "source": [
    "#print(data.shape)\n",
    "data"
   ]
  },
  {
   "cell_type": "markdown",
   "metadata": {},
   "source": [
    "## Функции"
   ]
  },
  {
   "cell_type": "code",
   "execution_count": null,
   "metadata": {},
   "outputs": [],
   "source": [
    "def dative(row):\n",
    "    dative_parser = morph.parse(row)[0]\n",
    "    datv = dative_parser.inflect({'datv'})\n",
    "    return datv.word\n",
    "\n",
    "def genitive(row):\n",
    "    words = row.split(' ')\n",
    "    #print(words)\n",
    "    final_list = []\n",
    "    for word in words:\n",
    "        gent_parser = morph.parse(word)[0]\n",
    "        #print(gent_parser)\n",
    "        gent = gent_parser.inflect({'gent'})\n",
    "        #print(gent)\n",
    "        final_list.append(gent)\n",
    "    return final_list\n",
    "\n",
    "def letter(row):\n",
    "    return row[0] + '.'\n",
    "\n",
    "def gender(df):\n",
    "    genders = []\n",
    "    for i in range(df.shape[0]):\n",
    "        try:\n",
    "            value = detector.detect(firstname=df['supervisor_name'][i], middlename=df['supervisor_patronymic'][i], lastname=df['supervisor_surname'][i])\n",
    "            genders.append(value)\n",
    "        except:\n",
    "            value = 'NotPredicted'\n",
    "            genders.append(value)\n",
    "    return genders\n",
    "\n",
    "def appeal(df):\n",
    "    if df['supervisor_gender'] == Gender.FEMALE:\n",
    "        return 'Уважаемая'\n",
    "    else:\n",
    "        return 'Уважаемый'\n",
    "\n",
    "def dative_surname(df):\n",
    "    if df['supervisor_gender'] == Gender.FEMALE:\n",
    "        return maker.make(NamePart.LASTNAME, Gender.FEMALE, Case.DATIVE, df['supervisor_surname'])\n",
    "    else: \n",
    "        return maker.make(NamePart.LASTNAME, Gender.MALE, Case.DATIVE, df['supervisor_surname'])"
   ]
  },
  {
   "cell_type": "markdown",
   "metadata": {},
   "source": [
    "## Преобразования"
   ]
  },
  {
   "cell_type": "code",
   "execution_count": null,
   "metadata": {},
   "outputs": [],
   "source": [
    "transformed_data = pd.DataFrame(columns=['time', 'position', 'organization', 'supervisor_n1', 'supervisor_p1', 'supervisor_surname', 'dear', 'supervisor_name', 'supervisor_patronymic', 'student_fullname', 'student_group', 'supervisor_gender'])\n",
    "\n",
    "transformed_data['time'] = data.iloc[:,0]\n",
    "transformed_data['supervisor_n1'] = data.iloc[:,9].apply(letter).str.strip(' ')\n",
    "transformed_data['supervisor_p1'] = data.iloc[:,10].apply(letter).str.strip(' ')\n",
    "transformed_data['supervisor_surname'] = data.iloc[:,8].str.strip(' ')\n",
    "transformed_data['supervisor_name'] = data.iloc[:,9].str.strip(' ')\n",
    "transformed_data['supervisor_patronymic'] = data.iloc[:,10].str.strip(' ')\n",
    "transformed_data['student_fullname'] = data.iloc[:,2].str.strip(' ') + ' ' + data.iloc[:,3].str.strip(' ') + ' ' + data.iloc[:,4].str.strip(' ')\n",
    "transformed_data['student_group'] = data.iloc[:,5]\n",
    "transformed_data['supervisor_gender'] = gender(transformed_data)\n",
    "transformed_data['dear'] = transformed_data.apply(appeal, axis=1)\n",
    "\n",
    "transformed_data['position'] = data.iloc[:,6].apply(dative).str.capitalize()\n",
    "transformed_data['organization'] = \"«\" + data.iloc[:,7].str.rstrip(' ') + '»'#.apply(genitive)\n",
    "transformed_data['supervisor_surname'] = transformed_data.apply(dative_surname, axis=1)\n",
    "\n",
    "display(transformed_data)"
   ]
  },
  {
   "cell_type": "code",
   "execution_count": null,
   "metadata": {},
   "outputs": [],
   "source": [
    "transformed_data.to_csv(os.path.join('sources', 'test_csv.csv'))"
   ]
  },
  {
   "cell_type": "code",
   "execution_count": null,
   "metadata": {},
   "outputs": [],
   "source": [
    "values_dictionary = transformed_data.reset_index().to_dict('records')\n",
    "#values_dictionary"
   ]
  },
  {
   "cell_type": "code",
   "execution_count": null,
   "metadata": {},
   "outputs": [],
   "source": [
    "test_dict = { \n",
    "    'position' : 'Ректор', \n",
    "    'organization' : 'РТУ МИРЭА', \n",
    "    'supervisor_n1': 'С.', \n",
    "    'supervisor_p1': 'А.', \n",
    "    'supervisor_surname': 'Кудж',\n",
    "    'supervisor_name' : 'Станислав', \n",
    "    'supervisor_patronymic' : 'Алексеевич', \n",
    "    'student_fullname': 'Ермаков Сергей Романович', \n",
    "    'student_group': 'ИАМО-01-14',\n",
    "    }"
   ]
  },
  {
   "cell_type": "markdown",
   "metadata": {},
   "source": [
    "## Сохранение"
   ]
  },
  {
   "cell_type": "code",
   "execution_count": null,
   "metadata": {},
   "outputs": [],
   "source": [
    "def save_docs(values_dictionary):\n",
    "    saved_docs = []\n",
    "    for context in values_dictionary:\n",
    "        doc = docxtpl.DocxTemplate(os.path.join('sources', 'prescheduled.docx'))\n",
    "        doc.render(context)\n",
    "        saved_doc = os.path.join('output', 'prescheduled', 'ДС_' + context['student_fullname'] + '.docx')\n",
    "        doc.save(saved_doc)\n",
    "        saved_docs.append(saved_doc)\n",
    "    print(saved_docs)\n",
    "    return saved_docs"
   ]
  },
  {
   "cell_type": "code",
   "execution_count": null,
   "metadata": {},
   "outputs": [],
   "source": [
    "save_docs(values_dictionary)"
   ]
  },
  {
   "cell_type": "code",
   "execution_count": null,
   "metadata": {},
   "outputs": [],
   "source": [
    "end = time.time()\n",
    "print('Время работы скрипта: ', round(end - start, 2), 'секунд')"
   ]
  },
  {
   "cell_type": "markdown",
   "metadata": {},
   "source": [
    "## Источники"
   ]
  },
  {
   "cell_type": "markdown",
   "metadata": {},
   "source": [
    "https://habr.com/ru/post/456534/\n",
    "\n",
    "https://blog.formpl.us/how-to-generate-word-documents-from-templates-using-python-cb039ea2c890\n",
    "\n",
    "https://habr.com/ru/post/483302/\n",
    "\n",
    "http://helpexe.ru/programmirovanie/kak-chitat-i-pisat-v-google-sheets-s-python\n",
    "\n",
    "https://fooobar.com/questions/130030/download-a-spreadsheet-from-google-docs-using-python\n",
    "\n",
    "https://ru.stackoverflow.com/questions/934988/%D0%9A%D0%B0%D0%BA-%D1%8F-%D0%BC%D0%BE%D0%B3%D1%83-%D0%B4%D0%BE%D0%B1%D1%8B%D1%82%D1%8C-%D0%B4%D0%B0%D0%BD%D0%BD%D1%8B%D0%B5-%D1%81-google-docs-%D1%81-%D0%BF%D0%BE%D0%BC%D0%BE%D1%89%D1%8C%D1%8E-python\n",
    "\n",
    "https://issue.life/questions/44992650\n",
    "\n",
    "https://ru.stackoverflow.com/questions/1157933/%D0%A1%D0%BA%D0%BB%D0%BE%D0%BD%D0%B5%D0%BD%D0%B8%D0%B5-%D1%81%D0%BB%D0%BE%D0%B2-%D0%BF%D0%BE-%D0%BF%D0%B0%D0%B4%D0%B5%D0%B6%D0%B0%D0%BC-%D0%B2-python\n",
    "\n",
    "https://buildmedia.readthedocs.org/media/pdf/docxtpl/latest/docxtpl.pdf"
   ]
  }
 ],
 "metadata": {
  "kernelspec": {
   "display_name": "Python 3",
   "language": "python",
   "name": "python3"
  },
  "language_info": {
   "codemirror_mode": {
    "name": "ipython",
    "version": 3
   },
   "file_extension": ".py",
   "mimetype": "text/x-python",
   "name": "python",
   "nbconvert_exporter": "python",
   "pygments_lexer": "ipython3",
   "version": "3.8.8"
  }
 },
 "nbformat": 4,
 "nbformat_minor": 2
}
