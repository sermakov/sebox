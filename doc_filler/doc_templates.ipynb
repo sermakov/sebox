{
 "metadata": {
  "language_info": {
   "codemirror_mode": {
    "name": "ipython",
    "version": 3
   },
   "file_extension": ".py",
   "mimetype": "text/x-python",
   "name": "python",
   "nbconvert_exporter": "python",
   "pygments_lexer": "ipython3",
   "version": "3.9.2"
  },
  "orig_nbformat": 2,
  "kernelspec": {
   "name": "python3",
   "display_name": "Python 3",
   "language": "python"
  }
 },
 "nbformat": 4,
 "nbformat_minor": 2,
 "cells": [
  {
   "source": [
    "# Заполнятор досрочки"
   ],
   "cell_type": "markdown",
   "metadata": {}
  },
  {
   "source": [
    "## Импорты"
   ],
   "cell_type": "markdown",
   "metadata": {}
  },
  {
   "cell_type": "code",
   "execution_count": 4,
   "metadata": {},
   "outputs": [],
   "source": [
    "import time, os\n",
    "start = time.time()\n",
    "\n",
    "import pandas as pd\n",
    "import docxtpl\n",
    "import pymorphy2\n",
    "\n",
    "from pytrovich.enums import NamePart, Gender, Case\n",
    "from pytrovich.maker import PetrovichDeclinationMaker\n",
    "from pytrovich.detector import PetrovichGenderDetector\n",
    "\n",
    "morph = pymorphy2.MorphAnalyzer()\n",
    "maker = PetrovichDeclinationMaker()\n",
    "detector = PetrovichGenderDetector()"
   ]
  },
  {
   "source": [
    "## Google-таблица"
   ],
   "cell_type": "markdown",
   "metadata": {}
  },
  {
   "cell_type": "code",
   "execution_count": 5,
   "metadata": {},
   "outputs": [],
   "source": [
    "data = pd.read_csv('https://docs.google.com/spreadsheets/d/1c98xNkkaUL_lanW_yGBD8HRr69hrWzO-a2QjHs8fMyc/export?format=csv')"
   ]
  },
  {
   "cell_type": "code",
   "execution_count": 6,
   "metadata": {},
   "outputs": [
    {
     "output_type": "stream",
     "name": "stdout",
     "text": [
      "(63, 11)\n"
     ]
    },
    {
     "output_type": "execute_result",
     "data": {
      "text/plain": [
       "        Отметка времени         Адрес электронной почты Фамилия студента  \\\n",
       "0   18.03.2019 18:30:36          seermakov355@yandex.ru          Ермаков   \n",
       "1   18.03.2019 21:39:41              anna.ersak@mail.ru            Ерсак   \n",
       "2   18.03.2019 21:51:08              nata7co@rambler.ru            Косяк   \n",
       "3   18.03.2019 21:52:19              caty-myu@yandex.ru          Петрова   \n",
       "4   18.03.2019 22:03:32                  ksu12g@mail.ru        Журавская   \n",
       "..                  ...                             ...              ...   \n",
       "58  10.04.2019 17:32:47            vov4ok2000@yandex.ru           Вовчок   \n",
       "59  11.04.2019 13:41:12  abdugafarov.olimkhon@gmail.com      Абдугафаров   \n",
       "60  12.04.2019 10:43:38             sneginka-00@mail.ru        Борисова    \n",
       "61  12.04.2019 16:01:10                  mkerlins@bk.ru       Мельникова   \n",
       "62   13.04.2019 9:09:32            olga.toshina@mail.ru           Тошина   \n",
       "\n",
       "   Имя студента Отчество студента Учебная группа студента  \\\n",
       "0        Сергей         Романович              ИВМО-05-18   \n",
       "1          Анна      Ярославовна              ЯЛНбо-14-17   \n",
       "2       Наталья        Николаевна                 ПДО-212   \n",
       "3     Анастасия        Андреевна                     ДС12   \n",
       "4       Ксения     Александровна                    Ж-317   \n",
       "..          ...               ...                     ...   \n",
       "58       Сергей         Сергеевич                 САП-211   \n",
       "59      Олимхон      Бахадир Угли             ЯЛНБО-01-18   \n",
       "60       Ульяна        Николаевна                 ЭСБ-111   \n",
       "61     Кристина        Алексеевна                     188   \n",
       "62        Ольга        Дмитриевна      17КСП-СДО(б/о)СП-1   \n",
       "\n",
       "               Должность                                              Куда?  \\\n",
       "0               Директор                                        Институт ИТ   \n",
       "1                 Ректор                        Институт Иностранных языков   \n",
       "2      И.о. руководителя              ГБПОУ г. Москвы \"Воробьевы Горы\" МКПТ   \n",
       "3               Директор  Автономная некомерческая организация высшего о...   \n",
       "4                 Ректор                            Факультет liberal arts    \n",
       "..                   ...                                                ...   \n",
       "58             Директору           Институт Пути Строительства и Сооружений   \n",
       "59  Заведующему кафедрой  Российский Университет Дружбы Народов, Институ...   \n",
       "60             Директору               МИИТ, институт экономики и финансов    \n",
       "61                Декану                      Институт филологии и истории    \n",
       "62                Декану  Московский Государственный Психолого-Педагогич...   \n",
       "\n",
       "   Фамилия руководителя подразделения Имя руководителя подразделения  \\\n",
       "0                                Зуев                        Андрей    \n",
       "1                           Соколова                        Наталья    \n",
       "2                              Жданов                          Антон   \n",
       "3                            Литовчин                           Юрий   \n",
       "4                               Машин                      Александр   \n",
       "..                                ...                            ...   \n",
       "58                           Шепитько                         Таисия   \n",
       "59                            Егорова                        Людмила   \n",
       "60                           Соколов                            Юрий   \n",
       "61                           Хазанова                      Маргарита   \n",
       "62                          Артёмова                             Ева   \n",
       "\n",
       "   Отчество руководителя подразделения  \n",
       "0                            Сергеевич  \n",
       "1                          Леонидовна   \n",
       "2                             Олегович  \n",
       "3                           Михайлович  \n",
       "4                            Борисович  \n",
       "..                                 ...  \n",
       "58                          Васильевна  \n",
       "59                          Алексеевна  \n",
       "60                            Игоревич  \n",
       "61                            Игоревна  \n",
       "62                          Эдуардовна  \n",
       "\n",
       "[63 rows x 11 columns]"
      ],
      "text/html": "<div>\n<style scoped>\n    .dataframe tbody tr th:only-of-type {\n        vertical-align: middle;\n    }\n\n    .dataframe tbody tr th {\n        vertical-align: top;\n    }\n\n    .dataframe thead th {\n        text-align: right;\n    }\n</style>\n<table border=\"1\" class=\"dataframe\">\n  <thead>\n    <tr style=\"text-align: right;\">\n      <th></th>\n      <th>Отметка времени</th>\n      <th>Адрес электронной почты</th>\n      <th>Фамилия студента</th>\n      <th>Имя студента</th>\n      <th>Отчество студента</th>\n      <th>Учебная группа студента</th>\n      <th>Должность</th>\n      <th>Куда?</th>\n      <th>Фамилия руководителя подразделения</th>\n      <th>Имя руководителя подразделения</th>\n      <th>Отчество руководителя подразделения</th>\n    </tr>\n  </thead>\n  <tbody>\n    <tr>\n      <th>0</th>\n      <td>18.03.2019 18:30:36</td>\n      <td>seermakov355@yandex.ru</td>\n      <td>Ермаков</td>\n      <td>Сергей</td>\n      <td>Романович</td>\n      <td>ИВМО-05-18</td>\n      <td>Директор</td>\n      <td>Институт ИТ</td>\n      <td>Зуев</td>\n      <td>Андрей</td>\n      <td>Сергеевич</td>\n    </tr>\n    <tr>\n      <th>1</th>\n      <td>18.03.2019 21:39:41</td>\n      <td>anna.ersak@mail.ru</td>\n      <td>Ерсак</td>\n      <td>Анна</td>\n      <td>Ярославовна</td>\n      <td>ЯЛНбо-14-17</td>\n      <td>Ректор</td>\n      <td>Институт Иностранных языков</td>\n      <td>Соколова</td>\n      <td>Наталья</td>\n      <td>Леонидовна</td>\n    </tr>\n    <tr>\n      <th>2</th>\n      <td>18.03.2019 21:51:08</td>\n      <td>nata7co@rambler.ru</td>\n      <td>Косяк</td>\n      <td>Наталья</td>\n      <td>Николаевна</td>\n      <td>ПДО-212</td>\n      <td>И.о. руководителя</td>\n      <td>ГБПОУ г. Москвы \"Воробьевы Горы\" МКПТ</td>\n      <td>Жданов</td>\n      <td>Антон</td>\n      <td>Олегович</td>\n    </tr>\n    <tr>\n      <th>3</th>\n      <td>18.03.2019 21:52:19</td>\n      <td>caty-myu@yandex.ru</td>\n      <td>Петрова</td>\n      <td>Анастасия</td>\n      <td>Андреевна</td>\n      <td>ДС12</td>\n      <td>Директор</td>\n      <td>Автономная некомерческая организация высшего о...</td>\n      <td>Литовчин</td>\n      <td>Юрий</td>\n      <td>Михайлович</td>\n    </tr>\n    <tr>\n      <th>4</th>\n      <td>18.03.2019 22:03:32</td>\n      <td>ksu12g@mail.ru</td>\n      <td>Журавская</td>\n      <td>Ксения</td>\n      <td>Александровна</td>\n      <td>Ж-317</td>\n      <td>Ректор</td>\n      <td>Факультет liberal arts</td>\n      <td>Машин</td>\n      <td>Александр</td>\n      <td>Борисович</td>\n    </tr>\n    <tr>\n      <th>...</th>\n      <td>...</td>\n      <td>...</td>\n      <td>...</td>\n      <td>...</td>\n      <td>...</td>\n      <td>...</td>\n      <td>...</td>\n      <td>...</td>\n      <td>...</td>\n      <td>...</td>\n      <td>...</td>\n    </tr>\n    <tr>\n      <th>58</th>\n      <td>10.04.2019 17:32:47</td>\n      <td>vov4ok2000@yandex.ru</td>\n      <td>Вовчок</td>\n      <td>Сергей</td>\n      <td>Сергеевич</td>\n      <td>САП-211</td>\n      <td>Директору</td>\n      <td>Институт Пути Строительства и Сооружений</td>\n      <td>Шепитько</td>\n      <td>Таисия</td>\n      <td>Васильевна</td>\n    </tr>\n    <tr>\n      <th>59</th>\n      <td>11.04.2019 13:41:12</td>\n      <td>abdugafarov.olimkhon@gmail.com</td>\n      <td>Абдугафаров</td>\n      <td>Олимхон</td>\n      <td>Бахадир Угли</td>\n      <td>ЯЛНБО-01-18</td>\n      <td>Заведующему кафедрой</td>\n      <td>Российский Университет Дружбы Народов, Институ...</td>\n      <td>Егорова</td>\n      <td>Людмила</td>\n      <td>Алексеевна</td>\n    </tr>\n    <tr>\n      <th>60</th>\n      <td>12.04.2019 10:43:38</td>\n      <td>sneginka-00@mail.ru</td>\n      <td>Борисова</td>\n      <td>Ульяна</td>\n      <td>Николаевна</td>\n      <td>ЭСБ-111</td>\n      <td>Директору</td>\n      <td>МИИТ, институт экономики и финансов</td>\n      <td>Соколов</td>\n      <td>Юрий</td>\n      <td>Игоревич</td>\n    </tr>\n    <tr>\n      <th>61</th>\n      <td>12.04.2019 16:01:10</td>\n      <td>mkerlins@bk.ru</td>\n      <td>Мельникова</td>\n      <td>Кристина</td>\n      <td>Алексеевна</td>\n      <td>188</td>\n      <td>Декану</td>\n      <td>Институт филологии и истории</td>\n      <td>Хазанова</td>\n      <td>Маргарита</td>\n      <td>Игоревна</td>\n    </tr>\n    <tr>\n      <th>62</th>\n      <td>13.04.2019 9:09:32</td>\n      <td>olga.toshina@mail.ru</td>\n      <td>Тошина</td>\n      <td>Ольга</td>\n      <td>Дмитриевна</td>\n      <td>17КСП-СДО(б/о)СП-1</td>\n      <td>Декану</td>\n      <td>Московский Государственный Психолого-Педагогич...</td>\n      <td>Артёмова</td>\n      <td>Ева</td>\n      <td>Эдуардовна</td>\n    </tr>\n  </tbody>\n</table>\n<p>63 rows × 11 columns</p>\n</div>"
     },
     "metadata": {},
     "execution_count": 6
    }
   ],
   "source": [
    "print(data.shape)\n",
    "data"
   ]
  },
  {
   "source": [
    "## Функции"
   ],
   "cell_type": "markdown",
   "metadata": {}
  },
  {
   "cell_type": "code",
   "execution_count": 7,
   "metadata": {},
   "outputs": [],
   "source": [
    "def dative(row):\n",
    "    dative_parser = morph.parse(row)[0]\n",
    "    datv = dative_parser.inflect({'datv'})\n",
    "    return datv.word\n",
    "\n",
    "def genitive(row):\n",
    "    words = row.split(' ')\n",
    "    #print(words)\n",
    "    final_list = []\n",
    "    for word in words:\n",
    "        gent_parser = morph.parse(word)[0]\n",
    "        #print(gent_parser)\n",
    "        gent = gent_parser.inflect({'gent'})\n",
    "        #print(gent)\n",
    "        final_list.append(gent)\n",
    "    return final_list\n",
    "\n",
    "def letter(row):\n",
    "    return row[0] + '.'\n",
    "\n",
    "def gender(df):\n",
    "    genders = []\n",
    "    for i in range(df.shape[0]):\n",
    "        try:\n",
    "            value = detector.detect(firstname=df['supervisor_name'][i], middlename=df['supervisor_patronymic'][i], lastname=df['supervisor_surname'][i])\n",
    "            genders.append(value)\n",
    "        except:\n",
    "            value = 'NotPredicted'\n",
    "            genders.append(value)\n",
    "    return genders\n",
    "\n",
    "def appeal(df):\n",
    "    if df['supervisor_gender'] == Gender.FEMALE:\n",
    "        return 'Уважаемая'\n",
    "    else:\n",
    "        return 'Уважаемый'\n",
    "\n",
    "def dative_surname(df):\n",
    "    if df['supervisor_gender'] == Gender.FEMALE:\n",
    "        return maker.make(NamePart.LASTNAME, Gender.FEMALE, Case.DATIVE, df['supervisor_surname'])\n",
    "    else: \n",
    "        return maker.make(NamePart.LASTNAME, Gender.MALE, Case.DATIVE, df['supervisor_surname'])"
   ]
  },
  {
   "source": [
    "## Преобразования"
   ],
   "cell_type": "markdown",
   "metadata": {}
  },
  {
   "cell_type": "code",
   "execution_count": 8,
   "metadata": {},
   "outputs": [
    {
     "output_type": "display_data",
     "data": {
      "text/plain": "                   time             position  \\\n0   18.03.2019 18:30:36            Директору   \n1   18.03.2019 21:39:41              Ректору   \n2   18.03.2019 21:51:08    И.о. руководителю   \n3   18.03.2019 21:52:19            Директору   \n4   18.03.2019 22:03:32              Ректору   \n..                  ...                  ...   \n58  10.04.2019 17:32:47            Директору   \n59  11.04.2019 13:41:12  Заведующему кафедре   \n60  12.04.2019 10:43:38            Директору   \n61  12.04.2019 16:01:10               Декану   \n62   13.04.2019 9:09:32               Декану   \n\n                                         organization supervisor_n1  \\\n0                                       «Институт ИТ»            А.   \n1                       «Институт Иностранных языков»            Н.   \n2             «ГБПОУ г. Москвы \"Воробьевы Горы\" МКПТ»            А.   \n3   «Автономная некомерческая организация высшего ...            Ю.   \n4                            «Факультет liberal arts»            А.   \n..                                                ...           ...   \n58         «Институт Пути Строительства и Сооружений»            Т.   \n59  «Российский Университет Дружбы Народов, Инстит...            Л.   \n60              «МИИТ, институт экономики и финансов»            Ю.   \n61                     «Институт филологии и истории»            М.   \n62  «Московский Государственный Психолого-Педагоги...            Е.   \n\n   supervisor_p1 supervisor_surname       dear supervisor_name  \\\n0             С.              Зуеву  Уважаемый          Андрей   \n1             Л.          Соколовой  Уважаемая         Наталья   \n2             О.            Жданову  Уважаемый           Антон   \n3             М.          Литовчину  Уважаемый            Юрий   \n4             Б.             Машину  Уважаемый       Александр   \n..           ...                ...        ...             ...   \n58            В.           Шепитько  Уважаемая          Таисия   \n59            А.           Егоровой  Уважаемая         Людмила   \n60            И.           Соколову  Уважаемый            Юрий   \n61            И.          Хазановой  Уважаемая       Маргарита   \n62            Э.          Артёмовой  Уважаемая             Ева   \n\n   supervisor_patronymic                  student_fullname  \\\n0              Сергеевич          Ермаков Сергей Романович   \n1             Леонидовна            Ерсак Анна Ярославовна   \n2               Олегович          Косяк Наталья Николаевна   \n3             Михайлович       Петрова Анастасия Андреевна   \n4              Борисович    Журавская Ксения Александровна   \n..                   ...                               ...   \n58            Васильевна           Вовчок Сергей Сергеевич   \n59            Алексеевна  Абдугафаров Олимхон Бахадир Угли   \n60              Игоревич        Борисова Ульяна Николаевна   \n61              Игоревна    Мельникова Кристина Алексеевна   \n62            Эдуардовна           Тошина Ольга Дмитриевна   \n\n         student_group supervisor_gender  \n0           ИВМО-05-18       Gender.MALE  \n1          ЯЛНбо-14-17     Gender.FEMALE  \n2              ПДО-212       Gender.MALE  \n3                 ДС12       Gender.MALE  \n4                Ж-317       Gender.MALE  \n..                 ...               ...  \n58             САП-211     Gender.FEMALE  \n59         ЯЛНБО-01-18     Gender.FEMALE  \n60             ЭСБ-111       Gender.MALE  \n61                 188     Gender.FEMALE  \n62  17КСП-СДО(б/о)СП-1     Gender.FEMALE  \n\n[63 rows x 12 columns]",
      "text/html": "<div>\n<style scoped>\n    .dataframe tbody tr th:only-of-type {\n        vertical-align: middle;\n    }\n\n    .dataframe tbody tr th {\n        vertical-align: top;\n    }\n\n    .dataframe thead th {\n        text-align: right;\n    }\n</style>\n<table border=\"1\" class=\"dataframe\">\n  <thead>\n    <tr style=\"text-align: right;\">\n      <th></th>\n      <th>time</th>\n      <th>position</th>\n      <th>organization</th>\n      <th>supervisor_n1</th>\n      <th>supervisor_p1</th>\n      <th>supervisor_surname</th>\n      <th>dear</th>\n      <th>supervisor_name</th>\n      <th>supervisor_patronymic</th>\n      <th>student_fullname</th>\n      <th>student_group</th>\n      <th>supervisor_gender</th>\n    </tr>\n  </thead>\n  <tbody>\n    <tr>\n      <th>0</th>\n      <td>18.03.2019 18:30:36</td>\n      <td>Директору</td>\n      <td>«Институт ИТ»</td>\n      <td>А.</td>\n      <td>С.</td>\n      <td>Зуеву</td>\n      <td>Уважаемый</td>\n      <td>Андрей</td>\n      <td>Сергеевич</td>\n      <td>Ермаков Сергей Романович</td>\n      <td>ИВМО-05-18</td>\n      <td>Gender.MALE</td>\n    </tr>\n    <tr>\n      <th>1</th>\n      <td>18.03.2019 21:39:41</td>\n      <td>Ректору</td>\n      <td>«Институт Иностранных языков»</td>\n      <td>Н.</td>\n      <td>Л.</td>\n      <td>Соколовой</td>\n      <td>Уважаемая</td>\n      <td>Наталья</td>\n      <td>Леонидовна</td>\n      <td>Ерсак Анна Ярославовна</td>\n      <td>ЯЛНбо-14-17</td>\n      <td>Gender.FEMALE</td>\n    </tr>\n    <tr>\n      <th>2</th>\n      <td>18.03.2019 21:51:08</td>\n      <td>И.о. руководителю</td>\n      <td>«ГБПОУ г. Москвы \"Воробьевы Горы\" МКПТ»</td>\n      <td>А.</td>\n      <td>О.</td>\n      <td>Жданову</td>\n      <td>Уважаемый</td>\n      <td>Антон</td>\n      <td>Олегович</td>\n      <td>Косяк Наталья Николаевна</td>\n      <td>ПДО-212</td>\n      <td>Gender.MALE</td>\n    </tr>\n    <tr>\n      <th>3</th>\n      <td>18.03.2019 21:52:19</td>\n      <td>Директору</td>\n      <td>«Автономная некомерческая организация высшего ...</td>\n      <td>Ю.</td>\n      <td>М.</td>\n      <td>Литовчину</td>\n      <td>Уважаемый</td>\n      <td>Юрий</td>\n      <td>Михайлович</td>\n      <td>Петрова Анастасия Андреевна</td>\n      <td>ДС12</td>\n      <td>Gender.MALE</td>\n    </tr>\n    <tr>\n      <th>4</th>\n      <td>18.03.2019 22:03:32</td>\n      <td>Ректору</td>\n      <td>«Факультет liberal arts»</td>\n      <td>А.</td>\n      <td>Б.</td>\n      <td>Машину</td>\n      <td>Уважаемый</td>\n      <td>Александр</td>\n      <td>Борисович</td>\n      <td>Журавская Ксения Александровна</td>\n      <td>Ж-317</td>\n      <td>Gender.MALE</td>\n    </tr>\n    <tr>\n      <th>...</th>\n      <td>...</td>\n      <td>...</td>\n      <td>...</td>\n      <td>...</td>\n      <td>...</td>\n      <td>...</td>\n      <td>...</td>\n      <td>...</td>\n      <td>...</td>\n      <td>...</td>\n      <td>...</td>\n      <td>...</td>\n    </tr>\n    <tr>\n      <th>58</th>\n      <td>10.04.2019 17:32:47</td>\n      <td>Директору</td>\n      <td>«Институт Пути Строительства и Сооружений»</td>\n      <td>Т.</td>\n      <td>В.</td>\n      <td>Шепитько</td>\n      <td>Уважаемая</td>\n      <td>Таисия</td>\n      <td>Васильевна</td>\n      <td>Вовчок Сергей Сергеевич</td>\n      <td>САП-211</td>\n      <td>Gender.FEMALE</td>\n    </tr>\n    <tr>\n      <th>59</th>\n      <td>11.04.2019 13:41:12</td>\n      <td>Заведующему кафедре</td>\n      <td>«Российский Университет Дружбы Народов, Инстит...</td>\n      <td>Л.</td>\n      <td>А.</td>\n      <td>Егоровой</td>\n      <td>Уважаемая</td>\n      <td>Людмила</td>\n      <td>Алексеевна</td>\n      <td>Абдугафаров Олимхон Бахадир Угли</td>\n      <td>ЯЛНБО-01-18</td>\n      <td>Gender.FEMALE</td>\n    </tr>\n    <tr>\n      <th>60</th>\n      <td>12.04.2019 10:43:38</td>\n      <td>Директору</td>\n      <td>«МИИТ, институт экономики и финансов»</td>\n      <td>Ю.</td>\n      <td>И.</td>\n      <td>Соколову</td>\n      <td>Уважаемый</td>\n      <td>Юрий</td>\n      <td>Игоревич</td>\n      <td>Борисова Ульяна Николаевна</td>\n      <td>ЭСБ-111</td>\n      <td>Gender.MALE</td>\n    </tr>\n    <tr>\n      <th>61</th>\n      <td>12.04.2019 16:01:10</td>\n      <td>Декану</td>\n      <td>«Институт филологии и истории»</td>\n      <td>М.</td>\n      <td>И.</td>\n      <td>Хазановой</td>\n      <td>Уважаемая</td>\n      <td>Маргарита</td>\n      <td>Игоревна</td>\n      <td>Мельникова Кристина Алексеевна</td>\n      <td>188</td>\n      <td>Gender.FEMALE</td>\n    </tr>\n    <tr>\n      <th>62</th>\n      <td>13.04.2019 9:09:32</td>\n      <td>Декану</td>\n      <td>«Московский Государственный Психолого-Педагоги...</td>\n      <td>Е.</td>\n      <td>Э.</td>\n      <td>Артёмовой</td>\n      <td>Уважаемая</td>\n      <td>Ева</td>\n      <td>Эдуардовна</td>\n      <td>Тошина Ольга Дмитриевна</td>\n      <td>17КСП-СДО(б/о)СП-1</td>\n      <td>Gender.FEMALE</td>\n    </tr>\n  </tbody>\n</table>\n<p>63 rows × 12 columns</p>\n</div>"
     },
     "metadata": {}
    }
   ],
   "source": [
    "transformed_data = pd.DataFrame(columns=['time', 'position', 'organization', 'supervisor_n1', 'supervisor_p1', 'supervisor_surname', 'dear', 'supervisor_name', 'supervisor_patronymic', 'student_fullname', 'student_group', 'supervisor_gender'])\n",
    "\n",
    "transformed_data['time'] = data.iloc[:,0]\n",
    "transformed_data['supervisor_n1'] = data.iloc[:,9].apply(letter).str.strip(' ')\n",
    "transformed_data['supervisor_p1'] = data.iloc[:,10].apply(letter).str.strip(' ')\n",
    "transformed_data['supervisor_surname'] = data.iloc[:,8].str.strip(' ')\n",
    "transformed_data['supervisor_name'] = data.iloc[:,9].str.strip(' ')\n",
    "transformed_data['supervisor_patronymic'] = data.iloc[:,10].str.strip(' ')\n",
    "transformed_data['student_fullname'] = data.iloc[:,2].str.strip(' ') + ' ' + data.iloc[:,3].str.strip(' ') + ' ' + data.iloc[:,4].str.strip(' ')\n",
    "transformed_data['student_group'] = data.iloc[:,5]\n",
    "transformed_data['supervisor_gender'] = gender(transformed_data)\n",
    "transformed_data['dear'] = transformed_data.apply(appeal, axis=1)\n",
    "\n",
    "transformed_data['position'] = data.iloc[:,6].apply(dative).str.capitalize()\n",
    "transformed_data['organization'] = \"«\" + data.iloc[:,7].str.rstrip(' ') + '»'#.apply(genitive)\n",
    "transformed_data['supervisor_surname'] = transformed_data.apply(dative_surname, axis=1)\n",
    "\n",
    "display(transformed_data)"
   ]
  },
  {
   "cell_type": "code",
   "execution_count": 9,
   "metadata": {},
   "outputs": [],
   "source": [
    "transformed_data.to_csv(os.path.join('sources', 'test_csv.csv'))"
   ]
  },
  {
   "cell_type": "code",
   "execution_count": 10,
   "metadata": {},
   "outputs": [],
   "source": [
    "values_dictionary = transformed_data.reset_index().to_dict('records')\n",
    "#values_dictionary"
   ]
  },
  {
   "cell_type": "code",
   "execution_count": 11,
   "metadata": {},
   "outputs": [],
   "source": [
    "test_dict = { \n",
    "    'position' : 'Ректор', \n",
    "    'organization' : 'РТУ МИРЭА', \n",
    "    'supervisor_n1': 'С.', \n",
    "    'supervisor_p1': 'А.', \n",
    "    'supervisor_surname': 'Кудж',\n",
    "    'supervisor_name' : 'Станислав', \n",
    "    'supervisor_patronymic' : 'Алексеевич', \n",
    "    'student_fullname': 'Ермаков Сергей Романович', \n",
    "    'student_group': 'ИАМО-01-14',\n",
    "    }"
   ]
  },
  {
   "source": [
    "## Сохранение"
   ],
   "cell_type": "markdown",
   "metadata": {}
  },
  {
   "cell_type": "code",
   "execution_count": 12,
   "metadata": {},
   "outputs": [],
   "source": [
    "def save_docs(values_dictionary):\n",
    "    saved_docs = []\n",
    "    for context in values_dictionary:\n",
    "        doc = docxtpl.DocxTemplate(os.path.join('sources', 'prescheduled.docx'))\n",
    "        doc.render(context)\n",
    "        saved_doc = os.path.join('output', 'prescheduled', 'ДС_' + context['student_fullname'] + '.docx')\n",
    "        doc.save(saved_doc)\n",
    "        saved_docs.append(saved_doc)\n",
    "    print(saved_docs)\n",
    "    return saved_docs"
   ]
  },
  {
   "cell_type": "code",
   "execution_count": 13,
   "metadata": {},
   "outputs": [
    {
     "output_type": "stream",
     "name": "stdout",
     "text": [
      "['output/prescheduled/ДС_Ермаков Сергей Романович.docx', 'output/prescheduled/ДС_Ерсак Анна Ярославовна.docx', 'output/prescheduled/ДС_Косяк Наталья Николаевна.docx', 'output/prescheduled/ДС_Петрова Анастасия Андреевна.docx', 'output/prescheduled/ДС_Журавская Ксения Александровна.docx', 'output/prescheduled/ДС_Иванишко Марина Юрьевна.docx', 'output/prescheduled/ДС_Комолов Сергей Алексеевич.docx', 'output/prescheduled/ДС_Чипко Александр Алексеевич.docx', 'output/prescheduled/ДС_Абрамова Анастасия Андреевна.docx', 'output/prescheduled/ДС_Киселева Виктория Дмитриевна.docx', 'output/prescheduled/ДС_Евтихов Павел Сергеевич.docx', 'output/prescheduled/ДС_Черняк Татьяна Олеговна.docx', 'output/prescheduled/ДС_Ныркова Валентина Игоревна.docx', 'output/prescheduled/ДС_Большенко Мария Анатольевна.docx', 'output/prescheduled/ДС_Метелёва Наталья Германовна.docx', 'output/prescheduled/ДС_Ерсак Анна Ярославовна.docx', 'output/prescheduled/ДС_Чермошенцева Анастасия Евгеньевна.docx', 'output/prescheduled/ДС_Королева Софья Андреевна.docx', 'output/prescheduled/ДС_Туркичева Анна Ивановна.docx', 'output/prescheduled/ДС_Бельских Татьяна Игоревна.docx', 'output/prescheduled/ДС_Кошель Полина Геннадьевна.docx', 'output/prescheduled/ДС_Романенко Игорь Андреевич.docx', 'output/prescheduled/ДС_Кирдейко Елизавета Владимировна.docx', 'output/prescheduled/ДС_Сегеда Жанна Дмитриевна.docx', 'output/prescheduled/ДС_Кратенко Анастасия Юрьевна.docx', 'output/prescheduled/ДС_Плетнева Алена Валерьевна.docx', 'output/prescheduled/ДС_Бритос Леон Элой -.docx', 'output/prescheduled/ДС_Асмыкович Александра Михайловна.docx', 'output/prescheduled/ДС_Милованова Полина Петровна.docx', 'output/prescheduled/ДС_Темякова Евгения Александровна.docx', 'output/prescheduled/ДС_Терентьева Мария Вадимовна.docx', 'output/prescheduled/ДС_Счастливый Игорь Алексеевич.docx', 'output/prescheduled/ДС_Артемонова Екатерина Алексеевна.docx', 'output/prescheduled/ДС_Иванова Ксения Денисовна.docx', 'output/prescheduled/ДС_Рогова Маргарита Юрьевна.docx', 'output/prescheduled/ДС_Сергеенкова Ксения Дмитриевна.docx', 'output/prescheduled/ДС_Давыдов Вадим Вадимович.docx', 'output/prescheduled/ДС_Платова Александра Николаевна.docx', 'output/prescheduled/ДС_Волошко Екатерина Александровна.docx', 'output/prescheduled/ДС_Матвеев Максим Михайлович.docx', 'output/prescheduled/ДС_Гургенидзе Жанна Олеговна.docx', 'output/prescheduled/ДС_Ионас Софья Александровна.docx', 'output/prescheduled/ДС_Нагорная Мария Денисовна.docx', 'output/prescheduled/ДС_Трошкина Виктория Андреевна.docx', 'output/prescheduled/ДС_Кошелева Анастасия Владиславовна.docx', 'output/prescheduled/ДС_Гарькавая Елизавета Петровна.docx', 'output/prescheduled/ДС_Мицек Екатерина Николаевна.docx', 'output/prescheduled/ДС_Клименко Максим Владиславович.docx', 'output/prescheduled/ДС_Разбегаева Валерия Васильевна.docx', 'output/prescheduled/ДС_Дементьева Полина Викторовна.docx', 'output/prescheduled/ДС_Дымич Яна Вагановна.docx', 'output/prescheduled/ДС_Газизуллина Амина Айдаровна.docx', 'output/prescheduled/ДС_Кулешова Марина Александровна.docx', 'output/prescheduled/ДС_Малюгина Екатерина Сергеевна.docx', 'output/prescheduled/ДС_Корнилова Татьяна Сергеевна.docx', 'output/prescheduled/ДС_Петрухина Александра Дмитриевна.docx', 'output/prescheduled/ДС_Калачева Дарья Сергеевна.docx', 'output/prescheduled/ДС_Семёнова Елизавета Дмитриевна.docx', 'output/prescheduled/ДС_Вовчок Сергей Сергеевич.docx', 'output/prescheduled/ДС_Абдугафаров Олимхон Бахадир Угли.docx', 'output/prescheduled/ДС_Борисова Ульяна Николаевна.docx', 'output/prescheduled/ДС_Мельникова Кристина Алексеевна.docx', 'output/prescheduled/ДС_Тошина Ольга Дмитриевна.docx']\n"
     ]
    },
    {
     "output_type": "execute_result",
     "data": {
      "text/plain": [
       "['output/prescheduled/ДС_Ермаков Сергей Романович.docx',\n",
       " 'output/prescheduled/ДС_Ерсак Анна Ярославовна.docx',\n",
       " 'output/prescheduled/ДС_Косяк Наталья Николаевна.docx',\n",
       " 'output/prescheduled/ДС_Петрова Анастасия Андреевна.docx',\n",
       " 'output/prescheduled/ДС_Журавская Ксения Александровна.docx',\n",
       " 'output/prescheduled/ДС_Иванишко Марина Юрьевна.docx',\n",
       " 'output/prescheduled/ДС_Комолов Сергей Алексеевич.docx',\n",
       " 'output/prescheduled/ДС_Чипко Александр Алексеевич.docx',\n",
       " 'output/prescheduled/ДС_Абрамова Анастасия Андреевна.docx',\n",
       " 'output/prescheduled/ДС_Киселева Виктория Дмитриевна.docx',\n",
       " 'output/prescheduled/ДС_Евтихов Павел Сергеевич.docx',\n",
       " 'output/prescheduled/ДС_Черняк Татьяна Олеговна.docx',\n",
       " 'output/prescheduled/ДС_Ныркова Валентина Игоревна.docx',\n",
       " 'output/prescheduled/ДС_Большенко Мария Анатольевна.docx',\n",
       " 'output/prescheduled/ДС_Метелёва Наталья Германовна.docx',\n",
       " 'output/prescheduled/ДС_Ерсак Анна Ярославовна.docx',\n",
       " 'output/prescheduled/ДС_Чермошенцева Анастасия Евгеньевна.docx',\n",
       " 'output/prescheduled/ДС_Королева Софья Андреевна.docx',\n",
       " 'output/prescheduled/ДС_Туркичева Анна Ивановна.docx',\n",
       " 'output/prescheduled/ДС_Бельских Татьяна Игоревна.docx',\n",
       " 'output/prescheduled/ДС_Кошель Полина Геннадьевна.docx',\n",
       " 'output/prescheduled/ДС_Романенко Игорь Андреевич.docx',\n",
       " 'output/prescheduled/ДС_Кирдейко Елизавета Владимировна.docx',\n",
       " 'output/prescheduled/ДС_Сегеда Жанна Дмитриевна.docx',\n",
       " 'output/prescheduled/ДС_Кратенко Анастасия Юрьевна.docx',\n",
       " 'output/prescheduled/ДС_Плетнева Алена Валерьевна.docx',\n",
       " 'output/prescheduled/ДС_Бритос Леон Элой -.docx',\n",
       " 'output/prescheduled/ДС_Асмыкович Александра Михайловна.docx',\n",
       " 'output/prescheduled/ДС_Милованова Полина Петровна.docx',\n",
       " 'output/prescheduled/ДС_Темякова Евгения Александровна.docx',\n",
       " 'output/prescheduled/ДС_Терентьева Мария Вадимовна.docx',\n",
       " 'output/prescheduled/ДС_Счастливый Игорь Алексеевич.docx',\n",
       " 'output/prescheduled/ДС_Артемонова Екатерина Алексеевна.docx',\n",
       " 'output/prescheduled/ДС_Иванова Ксения Денисовна.docx',\n",
       " 'output/prescheduled/ДС_Рогова Маргарита Юрьевна.docx',\n",
       " 'output/prescheduled/ДС_Сергеенкова Ксения Дмитриевна.docx',\n",
       " 'output/prescheduled/ДС_Давыдов Вадим Вадимович.docx',\n",
       " 'output/prescheduled/ДС_Платова Александра Николаевна.docx',\n",
       " 'output/prescheduled/ДС_Волошко Екатерина Александровна.docx',\n",
       " 'output/prescheduled/ДС_Матвеев Максим Михайлович.docx',\n",
       " 'output/prescheduled/ДС_Гургенидзе Жанна Олеговна.docx',\n",
       " 'output/prescheduled/ДС_Ионас Софья Александровна.docx',\n",
       " 'output/prescheduled/ДС_Нагорная Мария Денисовна.docx',\n",
       " 'output/prescheduled/ДС_Трошкина Виктория Андреевна.docx',\n",
       " 'output/prescheduled/ДС_Кошелева Анастасия Владиславовна.docx',\n",
       " 'output/prescheduled/ДС_Гарькавая Елизавета Петровна.docx',\n",
       " 'output/prescheduled/ДС_Мицек Екатерина Николаевна.docx',\n",
       " 'output/prescheduled/ДС_Клименко Максим Владиславович.docx',\n",
       " 'output/prescheduled/ДС_Разбегаева Валерия Васильевна.docx',\n",
       " 'output/prescheduled/ДС_Дементьева Полина Викторовна.docx',\n",
       " 'output/prescheduled/ДС_Дымич Яна Вагановна.docx',\n",
       " 'output/prescheduled/ДС_Газизуллина Амина Айдаровна.docx',\n",
       " 'output/prescheduled/ДС_Кулешова Марина Александровна.docx',\n",
       " 'output/prescheduled/ДС_Малюгина Екатерина Сергеевна.docx',\n",
       " 'output/prescheduled/ДС_Корнилова Татьяна Сергеевна.docx',\n",
       " 'output/prescheduled/ДС_Петрухина Александра Дмитриевна.docx',\n",
       " 'output/prescheduled/ДС_Калачева Дарья Сергеевна.docx',\n",
       " 'output/prescheduled/ДС_Семёнова Елизавета Дмитриевна.docx',\n",
       " 'output/prescheduled/ДС_Вовчок Сергей Сергеевич.docx',\n",
       " 'output/prescheduled/ДС_Абдугафаров Олимхон Бахадир Угли.docx',\n",
       " 'output/prescheduled/ДС_Борисова Ульяна Николаевна.docx',\n",
       " 'output/prescheduled/ДС_Мельникова Кристина Алексеевна.docx',\n",
       " 'output/prescheduled/ДС_Тошина Ольга Дмитриевна.docx']"
      ]
     },
     "metadata": {},
     "execution_count": 13
    }
   ],
   "source": [
    "save_docs(values_dictionary)"
   ]
  },
  {
   "cell_type": "code",
   "execution_count": 14,
   "metadata": {},
   "outputs": [
    {
     "output_type": "stream",
     "name": "stdout",
     "text": [
      "Время работы скрипта:  19.5 секунд\n"
     ]
    }
   ],
   "source": [
    "end = time.time()\n",
    "print('Время работы скрипта: ', round(end - start, 2), 'секунд')"
   ]
  },
  {
   "source": [
    "## Источники"
   ],
   "cell_type": "markdown",
   "metadata": {}
  },
  {
   "source": [
    "https://habr.com/ru/post/456534/\n",
    "\n",
    "https://blog.formpl.us/how-to-generate-word-documents-from-templates-using-python-cb039ea2c890\n",
    "\n",
    "https://habr.com/ru/post/483302/\n",
    "\n",
    "http://helpexe.ru/programmirovanie/kak-chitat-i-pisat-v-google-sheets-s-python\n",
    "\n",
    "https://fooobar.com/questions/130030/download-a-spreadsheet-from-google-docs-using-python\n",
    "\n",
    "https://ru.stackoverflow.com/questions/934988/%D0%9A%D0%B0%D0%BA-%D1%8F-%D0%BC%D0%BE%D0%B3%D1%83-%D0%B4%D0%BE%D0%B1%D1%8B%D1%82%D1%8C-%D0%B4%D0%B0%D0%BD%D0%BD%D1%8B%D0%B5-%D1%81-google-docs-%D1%81-%D0%BF%D0%BE%D0%BC%D0%BE%D1%89%D1%8C%D1%8E-python\n",
    "\n",
    "https://issue.life/questions/44992650\n",
    "\n",
    "https://ru.stackoverflow.com/questions/1157933/%D0%A1%D0%BA%D0%BB%D0%BE%D0%BD%D0%B5%D0%BD%D0%B8%D0%B5-%D1%81%D0%BB%D0%BE%D0%B2-%D0%BF%D0%BE-%D0%BF%D0%B0%D0%B4%D0%B5%D0%B6%D0%B0%D0%BC-%D0%B2-python\n",
    "\n",
    "https://buildmedia.readthedocs.org/media/pdf/docxtpl/latest/docxtpl.pdf"
   ],
   "cell_type": "markdown",
   "metadata": {}
  }
 ]
}