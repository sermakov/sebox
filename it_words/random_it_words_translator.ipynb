{
 "cells": [
  {
   "cell_type": "markdown",
   "metadata": {},
   "source": [
    "# Random IT words translator"
   ]
  },
  {
   "cell_type": "markdown",
   "metadata": {},
   "source": [
    "1. https://pythonru.com/biblioteki/parsing-na-python-s-beautiful-soup\n",
    "2. https://www.computerlanguage.com/index/d.php\n",
    "3. https://pypi.org/project/google-trans-new/\n",
    "4. https://stackoverflow.com/questions/40596518/writing-a-python-pandas-dataframe-to-word-document"
   ]
  },
  {
   "cell_type": "markdown",
   "metadata": {},
   "source": [
    "## Импорт библиотек"
   ]
  },
  {
   "cell_type": "code",
   "execution_count": 2,
   "metadata": {},
   "outputs": [
    {
     "name": "stdout",
     "output_type": "stream",
     "text": [
      "Requirement already satisfied: google_trans_new in c:\\users\\seerm\\appdata\\roaming\\python\\python38\\site-packages (1.1.9)\n",
      "Collecting lxml\n",
      "  Downloading lxml-4.6.3-cp38-cp38-win_amd64.whl (3.5 MB)\n",
      "Installing collected packages: lxml\n",
      "Successfully installed lxml-4.6.3\n",
      "Requirement already satisfied: requests in c:\\programdata\\anaconda3\\envs\\senv\\lib\\site-packages (2.25.1)\n",
      "Requirement already satisfied: certifi>=2017.4.17 in c:\\programdata\\anaconda3\\envs\\senv\\lib\\site-packages (from requests) (2020.12.5)\n",
      "Requirement already satisfied: urllib3<1.27,>=1.21.1 in c:\\programdata\\anaconda3\\envs\\senv\\lib\\site-packages (from requests) (1.26.4)\n",
      "Requirement already satisfied: idna<3,>=2.5 in c:\\programdata\\anaconda3\\envs\\senv\\lib\\site-packages (from requests) (2.10)\n",
      "Requirement already satisfied: chardet<5,>=3.0.2 in c:\\programdata\\anaconda3\\envs\\senv\\lib\\site-packages (from requests) (4.0.0)\n",
      "Collecting beautifulsoup4\n",
      "  Using cached beautifulsoup4-4.9.3-py3-none-any.whl (115 kB)\n",
      "Collecting soupsieve>1.2\n",
      "  Downloading soupsieve-2.2.1-py3-none-any.whl (33 kB)\n",
      "Installing collected packages: soupsieve, beautifulsoup4\n",
      "Successfully installed beautifulsoup4-4.9.3 soupsieve-2.2.1\n",
      "Requirement already satisfied: python-docx in c:\\users\\seerm\\appdata\\roaming\\python\\python38\\site-packages (0.8.10)\n",
      "Requirement already satisfied: lxml>=2.3.2 in c:\\users\\seerm\\appdata\\roaming\\python\\python38\\site-packages (from python-docx) (4.6.3)\n"
     ]
    }
   ],
   "source": [
    "import sys  \n",
    "!{sys.executable} -m pip install --user google_trans_new\n",
    "!{sys.executable} -m pip install --user lxml\n",
    "!{sys.executable} -m pip install --user requests\n",
    "!{sys.executable} -m pip install --user beautifulsoup4\n",
    "!{sys.executable} -m pip install --user python-docx"
   ]
  },
  {
   "cell_type": "code",
   "execution_count": 4,
   "metadata": {},
   "outputs": [],
   "source": [
    "import time\n",
    "import os\n",
    "import pandas as pd\n",
    "import google_trans_new\n",
    "import requests\n",
    "from bs4 import BeautifulSoup\n",
    "from docx import Document\n",
    "\n",
    "#google_trans_new.__version__"
   ]
  },
  {
   "cell_type": "markdown",
   "metadata": {},
   "source": [
    "## Сбор данных с сайта"
   ]
  },
  {
   "cell_type": "code",
   "execution_count": 2,
   "metadata": {},
   "outputs": [],
   "source": [
    "alphabet = []\n",
    "for i in range(65, 91):\n",
    "    alphabet.append(chr(i + 32))\n",
    "\n",
    "#alphabet"
   ]
  },
  {
   "cell_type": "code",
   "execution_count": 3,
   "metadata": {},
   "outputs": [],
   "source": [
    "urls = []\n",
    "for l in alphabet:\n",
    "    urls.append('https://www.computerlanguage.com/index/' + l + '.php/')\n",
    "    \n",
    "#urls"
   ]
  },
  {
   "cell_type": "code",
   "execution_count": 4,
   "metadata": {},
   "outputs": [
    {
     "data": {
      "text/plain": [
       "32657"
      ]
     },
     "execution_count": 4,
     "metadata": {},
     "output_type": "execute_result"
    }
   ],
   "source": [
    "bundle = []\n",
    "for url in urls:\n",
    "    response = requests.get(url)\n",
    "    soup = BeautifulSoup(response.text, 'lxml')\n",
    "    terms = soup.find_all('div', class_='col-6 col-sm-4')\n",
    "    for term in terms:\n",
    "        bundle.append(term.text)\n",
    "          \n",
    "len(bundle)"
   ]
  },
  {
   "cell_type": "code",
   "execution_count": 5,
   "metadata": {},
   "outputs": [],
   "source": [
    "to_save_bundle = pd.DataFrame(data=bundle, columns=['English'])\n",
    "#full_bundle['Russian'] = full_bundle['English'].copy()"
   ]
  },
  {
   "cell_type": "code",
   "execution_count": 6,
   "metadata": {},
   "outputs": [],
   "source": [
    "to_save_bundle.to_csv('D:/Files/OneDrive/Jupyter/output/rand_trans/english_words.csv', index=False)"
   ]
  },
  {
   "cell_type": "markdown",
   "metadata": {},
   "source": [
    "## Чтение сохраненного файла"
   ]
  },
  {
   "cell_type": "code",
   "execution_count": 7,
   "metadata": {},
   "outputs": [
    {
     "data": {
      "text/html": [
       "<div>\n",
       "<style scoped>\n",
       "    .dataframe tbody tr th:only-of-type {\n",
       "        vertical-align: middle;\n",
       "    }\n",
       "\n",
       "    .dataframe tbody tr th {\n",
       "        vertical-align: top;\n",
       "    }\n",
       "\n",
       "    .dataframe thead th {\n",
       "        text-align: right;\n",
       "    }\n",
       "</style>\n",
       "<table border=\"1\" class=\"dataframe\">\n",
       "  <thead>\n",
       "    <tr style=\"text-align: right;\">\n",
       "      <th></th>\n",
       "      <th>English</th>\n",
       "    </tr>\n",
       "  </thead>\n",
       "  <tbody>\n",
       "    <tr>\n",
       "      <th>0</th>\n",
       "      <td>A-0</td>\n",
       "    </tr>\n",
       "    <tr>\n",
       "      <th>1</th>\n",
       "      <td>A/B box</td>\n",
       "    </tr>\n",
       "    <tr>\n",
       "      <th>2</th>\n",
       "      <td>A-B cable</td>\n",
       "    </tr>\n",
       "    <tr>\n",
       "      <th>3</th>\n",
       "      <td>A/D conversion</td>\n",
       "    </tr>\n",
       "    <tr>\n",
       "      <th>4</th>\n",
       "      <td>A/D converter</td>\n",
       "    </tr>\n",
       "    <tr>\n",
       "      <th>...</th>\n",
       "      <td>...</td>\n",
       "    </tr>\n",
       "    <tr>\n",
       "      <th>32652</th>\n",
       "      <td>ZyIMAGE</td>\n",
       "    </tr>\n",
       "    <tr>\n",
       "      <th>32653</th>\n",
       "      <td>ZyINDEX</td>\n",
       "    </tr>\n",
       "    <tr>\n",
       "      <th>32654</th>\n",
       "      <td>Zynga</td>\n",
       "    </tr>\n",
       "    <tr>\n",
       "      <th>32655</th>\n",
       "      <td>Zynn</td>\n",
       "    </tr>\n",
       "    <tr>\n",
       "      <th>32656</th>\n",
       "      <td>zywrite</td>\n",
       "    </tr>\n",
       "  </tbody>\n",
       "</table>\n",
       "<p>32655 rows × 1 columns</p>\n",
       "</div>"
      ],
      "text/plain": [
       "              English\n",
       "0                 A-0\n",
       "1             A/B box\n",
       "2           A-B cable\n",
       "3      A/D conversion\n",
       "4       A/D converter\n",
       "...               ...\n",
       "32652         ZyIMAGE\n",
       "32653         ZyINDEX\n",
       "32654           Zynga\n",
       "32655            Zynn\n",
       "32656         zywrite\n",
       "\n",
       "[32655 rows x 1 columns]"
      ]
     },
     "execution_count": 7,
     "metadata": {},
     "output_type": "execute_result"
    }
   ],
   "source": [
    "full_bundle = pd.read_csv('D:/Files/OneDrive/Jupyter/output/rand_trans/english_words.csv').dropna()\n",
    "full_bundle"
   ]
  },
  {
   "cell_type": "code",
   "execution_count": 8,
   "metadata": {},
   "outputs": [
    {
     "name": "stdout",
     "output_type": "stream",
     "text": [
      "16070\n"
     ]
    },
    {
     "data": {
      "text/html": [
       "<div>\n",
       "<style scoped>\n",
       "    .dataframe tbody tr th:only-of-type {\n",
       "        vertical-align: middle;\n",
       "    }\n",
       "\n",
       "    .dataframe tbody tr th {\n",
       "        vertical-align: top;\n",
       "    }\n",
       "\n",
       "    .dataframe thead th {\n",
       "        text-align: right;\n",
       "    }\n",
       "</style>\n",
       "<table border=\"1\" class=\"dataframe\">\n",
       "  <thead>\n",
       "    <tr style=\"text-align: right;\">\n",
       "      <th></th>\n",
       "      <th>English</th>\n",
       "    </tr>\n",
       "  </thead>\n",
       "  <tbody>\n",
       "    <tr>\n",
       "      <th>1364</th>\n",
       "      <td>application software platform</td>\n",
       "    </tr>\n",
       "    <tr>\n",
       "      <th>1910</th>\n",
       "      <td>automation server</td>\n",
       "    </tr>\n",
       "    <tr>\n",
       "      <th>10093</th>\n",
       "      <td>femtocell</td>\n",
       "    </tr>\n",
       "    <tr>\n",
       "      <th>6737</th>\n",
       "      <td>deep neural network</td>\n",
       "    </tr>\n",
       "    <tr>\n",
       "      <th>23482</th>\n",
       "      <td>recovery console</td>\n",
       "    </tr>\n",
       "    <tr>\n",
       "      <th>...</th>\n",
       "      <td>...</td>\n",
       "    </tr>\n",
       "    <tr>\n",
       "      <th>6679</th>\n",
       "      <td>decision instruction</td>\n",
       "    </tr>\n",
       "    <tr>\n",
       "      <th>12172</th>\n",
       "      <td>hard disk player</td>\n",
       "    </tr>\n",
       "    <tr>\n",
       "      <th>23802</th>\n",
       "      <td>reverse link</td>\n",
       "    </tr>\n",
       "    <tr>\n",
       "      <th>5201</th>\n",
       "      <td>computer center</td>\n",
       "    </tr>\n",
       "    <tr>\n",
       "      <th>2323</th>\n",
       "      <td>bean managed persistence</td>\n",
       "    </tr>\n",
       "  </tbody>\n",
       "</table>\n",
       "<p>250 rows × 1 columns</p>\n",
       "</div>"
      ],
      "text/plain": [
       "                             English\n",
       "1364   application software platform\n",
       "1910               automation server\n",
       "10093                      femtocell\n",
       "6737             deep neural network\n",
       "23482               recovery console\n",
       "...                              ...\n",
       "6679            decision instruction\n",
       "12172               hard disk player\n",
       "23802                   reverse link\n",
       "5201                 computer center\n",
       "2323        bean managed persistence\n",
       "\n",
       "[250 rows x 1 columns]"
      ]
     },
     "execution_count": 8,
     "metadata": {},
     "output_type": "execute_result"
    }
   ],
   "source": [
    "full_bundle = full_bundle[full_bundle['English'].str.islower()]\n",
    "print(len(full_bundle))\n",
    "\n",
    "full_bundle = full_bundle.sample(250)\n",
    "full_bundle"
   ]
  },
  {
   "cell_type": "markdown",
   "metadata": {},
   "source": [
    "## Перевод"
   ]
  },
  {
   "cell_type": "code",
   "execution_count": 9,
   "metadata": {},
   "outputs": [],
   "source": [
    "translator = google_trans_new.google_translator()"
   ]
  },
  {
   "cell_type": "code",
   "execution_count": 10,
   "metadata": {},
   "outputs": [
    {
     "name": "stdout",
     "output_type": "stream",
     "text": [
      "['Прикладное программное обеспечение платформы ', 'Сервер автоматизации ', 'фемтосел ', 'Глубокая нейронная сеть ', 'Консоль восстановления ', 'Голосовая информация Служба ', 'сундук ', 'слово колесо ', 'Последовательное устройство хранения доступа ', 'классика ', 'потенциометр ', 'Адаптивная гипермедиа ', 'прерывать вектор ', 'телевидение смартфона ', 'автосистемы ', 'Сжатие речи ', 'Пульт дистанционного управления парковка ', 'свисток дует ', 'Сжатие данных ', 'Иерархическая навигация ', 'Расчетность ', 'дегаус ', 'товарный сервер ', 'привыкнуть ', 'Эпитаксиальный слой ', 'трансивер ', 'перекрестный компилятор ', 'забрать ', 'фильтр ', 'подпись ', 'Телефонная система ', 'Шусс для фронта ', 'существенные условия ', 'эксплуатация ', 'Echo Suppressor ', 'Проверка осанки хоста ', 'Система предотвращения столкновений ', 'компьютеризировать ', 'осторожность ', 'молоток ', 'Слоистая архитектура ', 'весло ', 'сниматься ', 'проспонсированная ссылка, ссылка на спонсора ', 'передача фильма ', 'вычесть ', 'бит проливки ', 'подсеть ', 'из коробки ', 'База данных объектов ', 'Развейный рисунок ', 'Блокировка поведения ', 'кибервинг ', 'ладонь ', 'принция приложения ', 'Маржа ', 'операции ', 'Виртуальные сетевые вычисления ', 'куча ', 'Сервер ориентирован ', 'Сокращения чата ', 'Клиент / серверная сеть ', 'жесткое кодирование ', 'высококачественная музыка ', 'Модель данных документа ', 'источник питания ', 'крошка ', 'нативный исполняемый ', 'привилегия ', 'запятые ценности ', 'цилит ', 'База данных машины ', 'Fungible ', 'Детское меню ', 'акселерометр ', 'Буферная страница ', 'Нетопат ', 'Миниатюрные носители для хранения ', 'X-и плоттер ', 'На основе сервера вычисления ', 'редик ', 'Адаптер питания ', 'Вертикальная вертикальная ', 'стандартный формат данных ', 'Режим сценария ', 'количественное числительное ', 'Аудио декодер ', 'ключевой диск ', 'дисковый груминг ', 'поисковая строка ', 'размечена ', 'CDEV. ', 'Zebibit. ', 'Цифровая открытка ', 'Сеть безопасности ', 'доказательство ', 'крюк ', 'Совет кольцевой кольцевой рукав ', 'Расширение браузера ', 'Техно-допинг ', 'консультирование ', 'интерфейс привязанного блока ', 'Расширение доска ', 'Интерфейс программы приложений ', 'кэширование сервера ', 'внутренняя команда ', 'Динамический круиз-контроль ', 'определение радиочастоты ', 'водяной знак ', 'Переключение в самолете ', 'Постоянная виртуальная цепь ', 'Система рекомендации ', 'Модем голоса и данных ', 'Облако резервное копирование ', 'Аудиокодек ', 'Сетевая среда ', 'Линейный редактор ', 'Ценообразование потребления ', 'Абстрактный тип данных ', 'Двойное прикосновение ', 'Иерархия папки ', 'Индивидуальный портал ', 'Консервативные социальные сети ', 'генератор ', 'Call Agent ']\n"
     ]
    }
   ],
   "source": [
    "translated_1 = []\n",
    "for element in full_bundle['English'].head(125):\n",
    "    #translated.append(element.upper())#translator.translate(element, lang_tgt='ru'))\n",
    "    translated_1.append(translator.translate(element, lang_tgt='ru'))\n",
    "print(translated_1)"
   ]
  },
  {
   "cell_type": "code",
   "execution_count": 11,
   "metadata": {},
   "outputs": [
    {
     "name": "stdout",
     "output_type": "stream",
     "text": [
      "['если еще ', 'Самография ', 'Онлайн удостоверение личности ', 'тонкий сервер ', 'упаковка ', 'Текстовый шар ', 'фотонный кристалл ', 'Проектный жизненный цикл ', 'Формат для принтера ', 'Факс / модем ', 'гипер ', 'Hi-Res. ', 'Суперпарамагнитный предел ', 'блок адресуется ', 'медный чип ', 'Инженер сети ', 'улучшение изображения ', 'Методология развития системы ', 'модульное программирование ', 'Ролл в / разворачиваться ', 'отписаться ', 'ответвляться ', 'кабельный телефон ', 'модуль ', 'фанбои ', 'автоматически ', 'Data Glove. ', 'проверка ', 'Производитель оригинального оборудования ', 'производство добавок ', 'Программа контроля над руководителем ', 'облачность ', 'Tandem / Toll Office ', 'Аудио порты ', 'Класс хранения памяти ', 'компилировать ', 'Среднеквадратичный квадрат ', 'скрытые расширения ', 'Оптимизация скорости преобразования ', 'широкополосная сеть ', 'Алгоритм охвата дерева ', 'Программа передачи файлов ', 'отравление маршрутом ', 'упорядочение обновления ', 'Teardrop Attack ', 'Компьютерный аудио ', 'аудиокарты ', 'Маска прерывания ', 'котельная ', 'анонимный блог ', 'киберпродукты ', 'keylogger ', 'всенаправленный ', 'Parasite Software. ', 'Персональный брандмауэр ', 'Ускорительная карта ', 'Проект режима ', 'большой эндин ', 'жестко закодирован ', 'ремесленник ', 'мисс кэм ', 'ничтожество ', 'Параллельный принтер ', 'Ultracap. ', 'компьютерный зазор ', 'Прайс-страница ', 'межкладка ', 'Почта по факсу ', 'телетекст ', 'конверсия данных ', 'Усилитель клавиатуры ', 'Векторный шрифт ', 'сервисы определения местоположения ', 'Адрес декодер ', 'портлет ', 'Личная рабочая станция ', 'виртуальная машина ', 'Правила на основе серверов ', 'Адаптивные фары ', 'двоичный ', 'пароль ', 'термическая передача ', 'Выбор печати ', 'Формула редактор ', 'Абсолютный путь ', 'широкополосный телефон ', 'Передача данных ', 'Фильтр преобразования ', 'Молекулярная пучка эпитаксия ', 'метамавра ', 'Интеграционный сервер ', 'Ранг поиска ', 'Мобильное позиционирование ', 'управление ', 'автозаполнение ', 'исследование операций ', 'Абонентское оборудование ', 'промежуток ', 'Проводная точка доступа ', 'Спам ', 'допинг ', 'диэлектрический ', 'файл вложения ', 'Время доступа к памяти ', 'программный модуль ', 'DigiRati ', 'Доменная сеть ', 'Сервер времени ', 'Домашняя сеть ', 'высокая полоса ', 'поиск в режиме реального времени ', 'Несметательность насыщения оттенка ', 'неуправляемый код ', 'пропасть ', 'внешняя память ', 'Доска для изображения ', 'Двоичный формат ', 'графический интерфейс пользователя ', 'Мягкая робототехника ', 'Уровни безопасности ', 'Инструкция по решению ', 'Игрок жесткого диска ', 'обратная ссылка ', 'компьютерный центр ', 'бобы управляли настойчивостью ']\n"
     ]
    }
   ],
   "source": [
    "#time.sleep(60)\n",
    "translated_2 = []\n",
    "for element in full_bundle['English'].tail(125):\n",
    "    #translated.append(element.upper())#translator.translate(element, lang_tgt='ru'))\n",
    "    translated_2.append(translator.translate(element, lang_src='en', lang_tgt='ru'))\n",
    "print(translated_2)"
   ]
  },
  {
   "cell_type": "code",
   "execution_count": 12,
   "metadata": {},
   "outputs": [],
   "source": [
    "translated_1.extend(translated_2)\n",
    "full_bundle['Russian'] = translated_1\n",
    "full_bundle['Russian'] = full_bundle['Russian'].str.lower()"
   ]
  },
  {
   "cell_type": "code",
   "execution_count": 13,
   "metadata": {},
   "outputs": [
    {
     "data": {
      "text/html": [
       "<div>\n",
       "<style scoped>\n",
       "    .dataframe tbody tr th:only-of-type {\n",
       "        vertical-align: middle;\n",
       "    }\n",
       "\n",
       "    .dataframe tbody tr th {\n",
       "        vertical-align: top;\n",
       "    }\n",
       "\n",
       "    .dataframe thead th {\n",
       "        text-align: right;\n",
       "    }\n",
       "</style>\n",
       "<table border=\"1\" class=\"dataframe\">\n",
       "  <thead>\n",
       "    <tr style=\"text-align: right;\">\n",
       "      <th></th>\n",
       "      <th>Номер</th>\n",
       "      <th>Англоязычный термин</th>\n",
       "      <th>Русскоязычный термин</th>\n",
       "    </tr>\n",
       "  </thead>\n",
       "  <tbody>\n",
       "    <tr>\n",
       "      <th>0</th>\n",
       "      <td>1</td>\n",
       "      <td>absolute path</td>\n",
       "      <td>абсолютный путь</td>\n",
       "    </tr>\n",
       "    <tr>\n",
       "      <th>1</th>\n",
       "      <td>2</td>\n",
       "      <td>abstract data type</td>\n",
       "      <td>абстрактный тип данных</td>\n",
       "    </tr>\n",
       "    <tr>\n",
       "      <th>2</th>\n",
       "      <td>3</td>\n",
       "      <td>accelerator card</td>\n",
       "      <td>ускорительная карта</td>\n",
       "    </tr>\n",
       "    <tr>\n",
       "      <th>3</th>\n",
       "      <td>4</td>\n",
       "      <td>accelerometer</td>\n",
       "      <td>акселерометр</td>\n",
       "    </tr>\n",
       "    <tr>\n",
       "      <th>4</th>\n",
       "      <td>5</td>\n",
       "      <td>adaptive headlights</td>\n",
       "      <td>адаптивные фары</td>\n",
       "    </tr>\n",
       "    <tr>\n",
       "      <th>...</th>\n",
       "      <td>...</td>\n",
       "      <td>...</td>\n",
       "      <td>...</td>\n",
       "    </tr>\n",
       "    <tr>\n",
       "      <th>245</th>\n",
       "      <td>246</td>\n",
       "      <td>whistle blowing</td>\n",
       "      <td>свисток дует</td>\n",
       "    </tr>\n",
       "    <tr>\n",
       "      <th>246</th>\n",
       "      <td>247</td>\n",
       "      <td>wired access point</td>\n",
       "      <td>проводная точка доступа</td>\n",
       "    </tr>\n",
       "    <tr>\n",
       "      <th>247</th>\n",
       "      <td>248</td>\n",
       "      <td>word wheel</td>\n",
       "      <td>слово колесо</td>\n",
       "    </tr>\n",
       "    <tr>\n",
       "      <th>248</th>\n",
       "      <td>249</td>\n",
       "      <td>x-y plotter</td>\n",
       "      <td>x-и плоттер</td>\n",
       "    </tr>\n",
       "    <tr>\n",
       "      <th>249</th>\n",
       "      <td>250</td>\n",
       "      <td>zebibit</td>\n",
       "      <td>zebibit.</td>\n",
       "    </tr>\n",
       "  </tbody>\n",
       "</table>\n",
       "<p>250 rows × 3 columns</p>\n",
       "</div>"
      ],
      "text/plain": [
       "     Номер  Англоязычный термин      Русскоязычный термин\n",
       "0        1        absolute path          абсолютный путь \n",
       "1        2   abstract data type   абстрактный тип данных \n",
       "2        3     accelerator card      ускорительная карта \n",
       "3        4        accelerometer             акселерометр \n",
       "4        5  adaptive headlights          адаптивные фары \n",
       "..     ...                  ...                       ...\n",
       "245    246      whistle blowing             свисток дует \n",
       "246    247   wired access point  проводная точка доступа \n",
       "247    248           word wheel             слово колесо \n",
       "248    249          x-y plotter              x-и плоттер \n",
       "249    250              zebibit                 zebibit. \n",
       "\n",
       "[250 rows x 3 columns]"
      ]
     },
     "execution_count": 13,
     "metadata": {},
     "output_type": "execute_result"
    }
   ],
   "source": [
    "full_bundle = full_bundle.sort_values(by='English')\n",
    "full_bundle = full_bundle.reset_index(drop=True)\n",
    "full_bundle['Number'] = full_bundle.index + 1\n",
    "\n",
    "sorted_bundle = pd.DataFrame()\n",
    "sorted_bundle[['Номер', 'Англоязычный термин', 'Русскоязычный термин']] = full_bundle[['Number', 'English', 'Russian']]\n",
    "\n",
    "sorted_bundle"
   ]
  },
  {
   "cell_type": "markdown",
   "metadata": {},
   "source": [
    "## Создание документа"
   ]
  },
  {
   "cell_type": "code",
   "execution_count": 14,
   "metadata": {},
   "outputs": [],
   "source": [
    "document = Document()\n",
    "style = document.styles['Normal']\n",
    "font = style.font\n",
    "font.bold = False"
   ]
  },
  {
   "cell_type": "code",
   "execution_count": 15,
   "metadata": {},
   "outputs": [],
   "source": [
    "p = document.add_paragraph('Англо-русский словарь научных терминов')"
   ]
  },
  {
   "cell_type": "code",
   "execution_count": 16,
   "metadata": {},
   "outputs": [],
   "source": [
    "t = document.add_table(sorted_bundle.shape[0]+1, sorted_bundle.shape[1])\n",
    "\n",
    "# add the header rows\n",
    "for j in range(sorted_bundle.shape[-1]):\n",
    "    t.cell(0,j).text = sorted_bundle.columns[j]\n",
    "\n",
    "# add the rest of the data frame\n",
    "for i in range(sorted_bundle.shape[0]):\n",
    "    for j in range(sorted_bundle.shape[-1]):\n",
    "        t.cell(i+1,j).text = str(sorted_bundle.values[i,j])"
   ]
  },
  {
   "cell_type": "code",
   "execution_count": 17,
   "metadata": {},
   "outputs": [
    {
     "name": "stdout",
     "output_type": "stream",
     "text": [
      "Введите название файла: \n",
      "test2\n"
     ]
    }
   ],
   "source": [
    "#path = \"d:\\files\\onedrive\\jupyter\\output\\rand_trans\"\n",
    "#filename = input()\n",
    "#savename = os.path.join('jupyter', 'output', filename)\n",
    "\n",
    "print('Введите название файла: ')\n",
    "document.save('D:/Files/OneDrive/Jupyter/output/rand_trans/' + input() + '.docx')"
   ]
  },
  {
   "cell_type": "code",
   "execution_count": null,
   "metadata": {},
   "outputs": [],
   "source": []
  },
  {
   "cell_type": "code",
   "execution_count": null,
   "metadata": {},
   "outputs": [],
   "source": []
  }
 ],
 "metadata": {
  "kernelspec": {
   "display_name": "Python 3",
   "language": "python",
   "name": "python3"
  },
  "language_info": {
   "codemirror_mode": {
    "name": "ipython",
    "version": 3
   },
   "file_extension": ".py",
   "mimetype": "text/x-python",
   "name": "python",
   "nbconvert_exporter": "python",
   "pygments_lexer": "ipython3",
   "version": "3.8.8"
  }
 },
 "nbformat": 4,
 "nbformat_minor": 4
}